{
  "nbformat": 4,
  "nbformat_minor": 0,
  "metadata": {
    "colab": {
      "provenance": [],
      "gpuType": "T4",
      "authorship_tag": "ABX9TyNEgX3LM6Ihym+JOOLfQPCB",
      "include_colab_link": true
    },
    "kernelspec": {
      "name": "python3",
      "display_name": "Python 3"
    },
    "language_info": {
      "name": "python"
    },
    "accelerator": "GPU"
  },
  "cells": [
    {
      "cell_type": "markdown",
      "metadata": {
        "id": "view-in-github",
        "colab_type": "text"
      },
      "source": [
        "<a href=\"https://colab.research.google.com/github/ahelikar/sensor_ai_water-purifier-project/blob/main/chatbot_scratch.ipynb\" target=\"_parent\"><img src=\"https://colab.research.google.com/assets/colab-badge.svg\" alt=\"Open In Colab\"/></a>"
      ]
    },
    {
      "cell_type": "code",
      "source": [
        "!pip install nltk #the nltk library is  imported for natural language processing"
      ],
      "metadata": {
        "colab": {
          "base_uri": "https://localhost:8080/"
        },
        "id": "rw2i0FPXzKmr",
        "outputId": "fd324d9c-788a-458b-d11c-4bdb462ab854"
      },
      "execution_count": 1,
      "outputs": [
        {
          "output_type": "stream",
          "name": "stdout",
          "text": [
            "Requirement already satisfied: nltk in /usr/local/lib/python3.11/dist-packages (3.9.1)\n",
            "Requirement already satisfied: click in /usr/local/lib/python3.11/dist-packages (from nltk) (8.2.1)\n",
            "Requirement already satisfied: joblib in /usr/local/lib/python3.11/dist-packages (from nltk) (1.5.1)\n",
            "Requirement already satisfied: regex>=2021.8.3 in /usr/local/lib/python3.11/dist-packages (from nltk) (2024.11.6)\n",
            "Requirement already satisfied: tqdm in /usr/local/lib/python3.11/dist-packages (from nltk) (4.67.1)\n"
          ]
        }
      ]
    },
    {
      "cell_type": "code",
      "source": [
        "import os#importing neccessary libraries for readind texts and documents\n",
        "import nltk\n",
        "nltk.download('punkt_tab', quiet=True)\n",
        "\n",
        "from nltk import word_tokenize #importing word tokenizer to convert string into tokens\n",
        "\n",
        "file_content = \"\" #reading file content as a blank string\n",
        "\n",
        "try:\n",
        "    with open('water.txt', 'r') as f:\n",
        "        file_content = f.read()\n",
        "        print(file_content)\n",
        "except FileNotFoundError:\n",
        "    print(\"Error: water.txt not found. Please make sure the file exists in the correct directory.\")\n",
        "except Exception as e:\n",
        "    print(f\"An error occurred while reading the file: {e}\")\n",
        "word_file=word_tokenize(file_content) #Reading word file as tokens\n",
        "print(word_file)"
      ],
      "metadata": {
        "colab": {
          "base_uri": "https://localhost:8080/"
        },
        "id": "98E0VC103esT",
        "outputId": "255806a5-7250-46a8-d5df-416263e218af"
      },
      "execution_count": 4,
      "outputs": [
        {
          "output_type": "stream",
          "name": "stdout",
          "text": [
            "Water pollution (or aquatic pollution) is the contamination of water bodies, with a negative impact on their uses.[1]: 6  It is usually a result of human activities. Water bodies include lakes, rivers, oceans, aquifers, reservoirs and groundwater. Water pollution results when contaminants mix with these water bodies. Contaminants can come from one of four main sources. These are sewage discharges, industrial activities, agricultural activities, and urban runoff including stormwater.[2] Water pollution may affect either surface water or groundwater. This form of pollution can lead to many problems. One is the degradation of aquatic ecosystems. Another is spreading water-borne diseases when people use polluted water for drinking or irrigation.[3] Water pollution also reduces the ecosystem services such as drinking water provided by the water resource.\n",
            "\n",
            "Sources of water pollution are either point sources or non-point sources.[4] Point sources have one identifiable cause, such as a storm drain, a wastewater treatment plant, or an oil spill. Non-point sources are more diffuse. An example is agricultural runoff.[5] Pollution is the result of the cumulative effect over time. Pollution may take many forms. One would is toxic substances such as oil, metals, plastics, pesticides, persistent organic pollutants, and industrial waste products. Another is stressful conditions such as changes of pH, hypoxia or anoxia, increased temperatures, excessive turbidity, or changes of salinity). The introduction of pathogenic organisms is another. Contaminants may include organic and inorganic substances. A common cause of thermal pollution is the use of water as a coolant by power plants and industrial manufacturers.\n",
            "\n",
            "cate\n",
            "    What are the different types of water bodies?\", \"Water bodies include oceans, lakes, rivers, wetlands, and groundwater.\"],\n",
            "    What are some regulations related to water pollution?\", \"There are various regulations like the Clean Water Act in the United States, and international agreements.\"],\n",
            "    How can I get involved in water conservation?\", \"You can participate in local cleanups, conserve water at home, and support organizations working on water issues.\"],\n",
            "    What statistical analysis can be performed for water samples collected seasonally in the below case?\", \"Assuming a scenario such as: if one collected water samples from 9 different sites in a time series of four months (within two different seasons were each season had two months as a representative) from a river, a stream and a lake (each water body having received 3 random sites as a representative).With each visit to the site, only one time the water was collected, so no replica! The tests were intended to find heavy metals concentration like cadmium and bismuth. Unfortunately due to cost sometimes two sites or all three of the representative of the water body turned into a composite/mixture representative for this water body.\"]\n",
            "    How do researchers assess microplastic accumulation in water bodies? What steps are involved in this process?\",\" Accessing the microplastics accumulation in water bodies one can try these steps:\"\n",
            "    \"Sampling: Researchers collect water samples from different depths and locations within the water body.\"\n",
            "    \"Filtration: The water samples are filtered to capture microplastics of various sizes.\"\n",
            "    \"Separation: Techniques like density separation or chemical digestion are used to isolate microplastics from other particles.\"\n",
            "    \"Identification and Quantification: Microplastics are identified under a microscope or using advanced techniques like spectroscopy. Their quantity is determined by counting or weighing.\"\n",
            "    \"Data Analysis: The collected data is analyzed to assess the extent of microplastic pollution, identify sources, and understand the potential ecological impacts.\"],\n",
            "    \"Why pH balance is important for the fish culture?\",\"Fish require an optimal pH. Most species need a pH higher than 5.5. pH 6-8 is probably suitable for most fish. Incorrect pH affects metabolism. Substances such as aluminum ions and heavy metals become extra toxic at low pH. Too high a pH is also harmful. For example, there have been reports of fish deaths after emissions of ammonia.\"],\n",
            "    \" What the possible Persistent Organic Pollutants and Heavy metals present in fluorspar, sediments, and water bodies around its mining area?\",\"Fluorspar mining areas can contain Persistent Organic Pollutants (POPs) like PAHs and OCPs, as well as heavy metals such as lead, cadmium, and mercury, often exceeding WHO permissible limits. For example, PAHs in sediments can range from 1685 to 4010 µg/kg, while lead levels in drinking water should not exceed 0.01 mg/L.\"],\n",
            "    \" How to improve quantity and quality of groundwater ?\",\"Humans have pumped enough water from underground reservoirs to shift Earth’s geographic North Pole at a speed of 4.36 centimetres per year. The motion of atmospheric masses and water masses during seasonal changes causes the planet’s poles to naturally wobble by up to several metres every year. But to fully explain how much the axis has tilted between 1993 and 2010, human-made groundwater shifts have to be taken into account. More than 2 trillion tons of water were depleted from underground reservoirs during that time, particularly for irrigation in northwestern India and western North America\"],\n",
            "    \"Is it viable to use hyperspectral remote sensing data to classify different types of water bodies in a region?\",\"It is possible to distinguish different types of water bodies using hyperspectral data, including coastal waters, inland waters, ponds, and inland aquaculture. Hyperspectral imaging measures the reflectance of water bodies across a wide range of wavelengths, which can be used to identify different water properties and characteristics.\n",
            "      \"Different water bodies have unique spectral signatures, which can be analyzed to identify their specific land use classifications. For example, coastal waters typically have high reflectance in the blue and green parts of the spectrum due to the presence of phytoplankton and other water constituents. Inland waters may have different spectral characteristics depending on their location, depth, and surrounding vegetation.\n",
            "       \"Ponds and inland aquaculture can also be distinguished using hyperspectral data by analyzing the reflectance patterns of water and surrounding vegetation. For example, ponds may have different spectral signatures depending on their size, depth, and the type of vegetation present around them. Inland aquaculture, on the other hand, may have unique spectral signatures based on the type of fish species and feed used, as well as water quality and management practices.\n",
            "        \"However, accurate classification of water bodies using hyperspectral data requires careful data processing and analysis, as well as accurate ground truthing data for calibration and validation. Additionally, it is important to consider the specific environmental and management factors that may affect the spectral characteristics of different water bodies, in order to accurately classify them.\"],\n",
            "    \n",
            "    ]\n",
            "    \n",
            "['Water', 'pollution', '(', 'or', 'aquatic', 'pollution', ')', 'is', 'the', 'contamination', 'of', 'water', 'bodies', ',', 'with', 'a', 'negative', 'impact', 'on', 'their', 'uses', '.', '[', '1', ']', ':', '6', 'It', 'is', 'usually', 'a', 'result', 'of', 'human', 'activities', '.', 'Water', 'bodies', 'include', 'lakes', ',', 'rivers', ',', 'oceans', ',', 'aquifers', ',', 'reservoirs', 'and', 'groundwater', '.', 'Water', 'pollution', 'results', 'when', 'contaminants', 'mix', 'with', 'these', 'water', 'bodies', '.', 'Contaminants', 'can', 'come', 'from', 'one', 'of', 'four', 'main', 'sources', '.', 'These', 'are', 'sewage', 'discharges', ',', 'industrial', 'activities', ',', 'agricultural', 'activities', ',', 'and', 'urban', 'runoff', 'including', 'stormwater', '.', '[', '2', ']', 'Water', 'pollution', 'may', 'affect', 'either', 'surface', 'water', 'or', 'groundwater', '.', 'This', 'form', 'of', 'pollution', 'can', 'lead', 'to', 'many', 'problems', '.', 'One', 'is', 'the', 'degradation', 'of', 'aquatic', 'ecosystems', '.', 'Another', 'is', 'spreading', 'water-borne', 'diseases', 'when', 'people', 'use', 'polluted', 'water', 'for', 'drinking', 'or', 'irrigation', '.', '[', '3', ']', 'Water', 'pollution', 'also', 'reduces', 'the', 'ecosystem', 'services', 'such', 'as', 'drinking', 'water', 'provided', 'by', 'the', 'water', 'resource', '.', 'Sources', 'of', 'water', 'pollution', 'are', 'either', 'point', 'sources', 'or', 'non-point', 'sources', '.', '[', '4', ']', 'Point', 'sources', 'have', 'one', 'identifiable', 'cause', ',', 'such', 'as', 'a', 'storm', 'drain', ',', 'a', 'wastewater', 'treatment', 'plant', ',', 'or', 'an', 'oil', 'spill', '.', 'Non-point', 'sources', 'are', 'more', 'diffuse', '.', 'An', 'example', 'is', 'agricultural', 'runoff', '.', '[', '5', ']', 'Pollution', 'is', 'the', 'result', 'of', 'the', 'cumulative', 'effect', 'over', 'time', '.', 'Pollution', 'may', 'take', 'many', 'forms', '.', 'One', 'would', 'is', 'toxic', 'substances', 'such', 'as', 'oil', ',', 'metals', ',', 'plastics', ',', 'pesticides', ',', 'persistent', 'organic', 'pollutants', ',', 'and', 'industrial', 'waste', 'products', '.', 'Another', 'is', 'stressful', 'conditions', 'such', 'as', 'changes', 'of', 'pH', ',', 'hypoxia', 'or', 'anoxia', ',', 'increased', 'temperatures', ',', 'excessive', 'turbidity', ',', 'or', 'changes', 'of', 'salinity', ')', '.', 'The', 'introduction', 'of', 'pathogenic', 'organisms', 'is', 'another', '.', 'Contaminants', 'may', 'include', 'organic', 'and', 'inorganic', 'substances', '.', 'A', 'common', 'cause', 'of', 'thermal', 'pollution', 'is', 'the', 'use', 'of', 'water', 'as', 'a', 'coolant', 'by', 'power', 'plants', 'and', 'industrial', 'manufacturers', '.', 'cate', 'What', 'are', 'the', 'different', 'types', 'of', 'water', 'bodies', '?', '``', ',', '``', 'Water', 'bodies', 'include', 'oceans', ',', 'lakes', ',', 'rivers', ',', 'wetlands', ',', 'and', 'groundwater', '.', '``', ']', ',', 'What', 'are', 'some', 'regulations', 'related', 'to', 'water', 'pollution', '?', '``', ',', '``', 'There', 'are', 'various', 'regulations', 'like', 'the', 'Clean', 'Water', 'Act', 'in', 'the', 'United', 'States', ',', 'and', 'international', 'agreements', '.', '``', ']', ',', 'How', 'can', 'I', 'get', 'involved', 'in', 'water', 'conservation', '?', '``', ',', '``', 'You', 'can', 'participate', 'in', 'local', 'cleanups', ',', 'conserve', 'water', 'at', 'home', ',', 'and', 'support', 'organizations', 'working', 'on', 'water', 'issues', '.', '``', ']', ',', 'What', 'statistical', 'analysis', 'can', 'be', 'performed', 'for', 'water', 'samples', 'collected', 'seasonally', 'in', 'the', 'below', 'case', '?', '``', ',', '``', 'Assuming', 'a', 'scenario', 'such', 'as', ':', 'if', 'one', 'collected', 'water', 'samples', 'from', '9', 'different', 'sites', 'in', 'a', 'time', 'series', 'of', 'four', 'months', '(', 'within', 'two', 'different', 'seasons', 'were', 'each', 'season', 'had', 'two', 'months', 'as', 'a', 'representative', ')', 'from', 'a', 'river', ',', 'a', 'stream', 'and', 'a', 'lake', '(', 'each', 'water', 'body', 'having', 'received', '3', 'random', 'sites', 'as', 'a', 'representative', ')', '.With', 'each', 'visit', 'to', 'the', 'site', ',', 'only', 'one', 'time', 'the', 'water', 'was', 'collected', ',', 'so', 'no', 'replica', '!', 'The', 'tests', 'were', 'intended', 'to', 'find', 'heavy', 'metals', 'concentration', 'like', 'cadmium', 'and', 'bismuth', '.', 'Unfortunately', 'due', 'to', 'cost', 'sometimes', 'two', 'sites', 'or', 'all', 'three', 'of', 'the', 'representative', 'of', 'the', 'water', 'body', 'turned', 'into', 'a', 'composite/mixture', 'representative', 'for', 'this', 'water', 'body', '.', \"''\", ']', 'How', 'do', 'researchers', 'assess', 'microplastic', 'accumulation', 'in', 'water', 'bodies', '?', 'What', 'steps', 'are', 'involved', 'in', 'this', 'process', '?', '``', ',', \"''\", 'Accessing', 'the', 'microplastics', 'accumulation', 'in', 'water', 'bodies', 'one', 'can', 'try', 'these', 'steps', ':', \"''\", '``', 'Sampling', ':', 'Researchers', 'collect', 'water', 'samples', 'from', 'different', 'depths', 'and', 'locations', 'within', 'the', 'water', 'body', '.', \"''\", '``', 'Filtration', ':', 'The', 'water', 'samples', 'are', 'filtered', 'to', 'capture', 'microplastics', 'of', 'various', 'sizes', '.', \"''\", '``', 'Separation', ':', 'Techniques', 'like', 'density', 'separation', 'or', 'chemical', 'digestion', 'are', 'used', 'to', 'isolate', 'microplastics', 'from', 'other', 'particles', '.', \"''\", '``', 'Identification', 'and', 'Quantification', ':', 'Microplastics', 'are', 'identified', 'under', 'a', 'microscope', 'or', 'using', 'advanced', 'techniques', 'like', 'spectroscopy', '.', 'Their', 'quantity', 'is', 'determined', 'by', 'counting', 'or', 'weighing', '.', \"''\", '``', 'Data', 'Analysis', ':', 'The', 'collected', 'data', 'is', 'analyzed', 'to', 'assess', 'the', 'extent', 'of', 'microplastic', 'pollution', ',', 'identify', 'sources', ',', 'and', 'understand', 'the', 'potential', 'ecological', 'impacts', '.', '``', ']', ',', '``', 'Why', 'pH', 'balance', 'is', 'important', 'for', 'the', 'fish', 'culture', '?', '``', ',', \"''\", 'Fish', 'require', 'an', 'optimal', 'pH', '.', 'Most', 'species', 'need', 'a', 'pH', 'higher', 'than', '5.5.', 'pH', '6-8', 'is', 'probably', 'suitable', 'for', 'most', 'fish', '.', 'Incorrect', 'pH', 'affects', 'metabolism', '.', 'Substances', 'such', 'as', 'aluminum', 'ions', 'and', 'heavy', 'metals', 'become', 'extra', 'toxic', 'at', 'low', 'pH', '.', 'Too', 'high', 'a', 'pH', 'is', 'also', 'harmful', '.', 'For', 'example', ',', 'there', 'have', 'been', 'reports', 'of', 'fish', 'deaths', 'after', 'emissions', 'of', 'ammonia', '.', '``', ']', ',', '``', 'What', 'the', 'possible', 'Persistent', 'Organic', 'Pollutants', 'and', 'Heavy', 'metals', 'present', 'in', 'fluorspar', ',', 'sediments', ',', 'and', 'water', 'bodies', 'around', 'its', 'mining', 'area', '?', '``', ',', \"''\", 'Fluorspar', 'mining', 'areas', 'can', 'contain', 'Persistent', 'Organic', 'Pollutants', '(', 'POPs', ')', 'like', 'PAHs', 'and', 'OCPs', ',', 'as', 'well', 'as', 'heavy', 'metals', 'such', 'as', 'lead', ',', 'cadmium', ',', 'and', 'mercury', ',', 'often', 'exceeding', 'WHO', 'permissible', 'limits', '.', 'For', 'example', ',', 'PAHs', 'in', 'sediments', 'can', 'range', 'from', '1685', 'to', '4010', 'µg/kg', ',', 'while', 'lead', 'levels', 'in', 'drinking', 'water', 'should', 'not', 'exceed', '0.01', 'mg/L', '.', '``', ']', ',', '``', 'How', 'to', 'improve', 'quantity', 'and', 'quality', 'of', 'groundwater', '?', '``', ',', \"''\", 'Humans', 'have', 'pumped', 'enough', 'water', 'from', 'underground', 'reservoirs', 'to', 'shift', 'Earth', '’', 's', 'geographic', 'North', 'Pole', 'at', 'a', 'speed', 'of', '4.36', 'centimetres', 'per', 'year', '.', 'The', 'motion', 'of', 'atmospheric', 'masses', 'and', 'water', 'masses', 'during', 'seasonal', 'changes', 'causes', 'the', 'planet', '’', 's', 'poles', 'to', 'naturally', 'wobble', 'by', 'up', 'to', 'several', 'metres', 'every', 'year', '.', 'But', 'to', 'fully', 'explain', 'how', 'much', 'the', 'axis', 'has', 'tilted', 'between', '1993', 'and', '2010', ',', 'human-made', 'groundwater', 'shifts', 'have', 'to', 'be', 'taken', 'into', 'account', '.', 'More', 'than', '2', 'trillion', 'tons', 'of', 'water', 'were', 'depleted', 'from', 'underground', 'reservoirs', 'during', 'that', 'time', ',', 'particularly', 'for', 'irrigation', 'in', 'northwestern', 'India', 'and', 'western', 'North', 'America', \"''\", ']', ',', '``', 'Is', 'it', 'viable', 'to', 'use', 'hyperspectral', 'remote', 'sensing', 'data', 'to', 'classify', 'different', 'types', 'of', 'water', 'bodies', 'in', 'a', 'region', '?', '``', ',', \"''\", 'It', 'is', 'possible', 'to', 'distinguish', 'different', 'types', 'of', 'water', 'bodies', 'using', 'hyperspectral', 'data', ',', 'including', 'coastal', 'waters', ',', 'inland', 'waters', ',', 'ponds', ',', 'and', 'inland', 'aquaculture', '.', 'Hyperspectral', 'imaging', 'measures', 'the', 'reflectance', 'of', 'water', 'bodies', 'across', 'a', 'wide', 'range', 'of', 'wavelengths', ',', 'which', 'can', 'be', 'used', 'to', 'identify', 'different', 'water', 'properties', 'and', 'characteristics', '.', '``', 'Different', 'water', 'bodies', 'have', 'unique', 'spectral', 'signatures', ',', 'which', 'can', 'be', 'analyzed', 'to', 'identify', 'their', 'specific', 'land', 'use', 'classifications', '.', 'For', 'example', ',', 'coastal', 'waters', 'typically', 'have', 'high', 'reflectance', 'in', 'the', 'blue', 'and', 'green', 'parts', 'of', 'the', 'spectrum', 'due', 'to', 'the', 'presence', 'of', 'phytoplankton', 'and', 'other', 'water', 'constituents', '.', 'Inland', 'waters', 'may', 'have', 'different', 'spectral', 'characteristics', 'depending', 'on', 'their', 'location', ',', 'depth', ',', 'and', 'surrounding', 'vegetation', '.', '``', 'Ponds', 'and', 'inland', 'aquaculture', 'can', 'also', 'be', 'distinguished', 'using', 'hyperspectral', 'data', 'by', 'analyzing', 'the', 'reflectance', 'patterns', 'of', 'water', 'and', 'surrounding', 'vegetation', '.', 'For', 'example', ',', 'ponds', 'may', 'have', 'different', 'spectral', 'signatures', 'depending', 'on', 'their', 'size', ',', 'depth', ',', 'and', 'the', 'type', 'of', 'vegetation', 'present', 'around', 'them', '.', 'Inland', 'aquaculture', ',', 'on', 'the', 'other', 'hand', ',', 'may', 'have', 'unique', 'spectral', 'signatures', 'based', 'on', 'the', 'type', 'of', 'fish', 'species', 'and', 'feed', 'used', ',', 'as', 'well', 'as', 'water', 'quality', 'and', 'management', 'practices', '.', '``', 'However', ',', 'accurate', 'classification', 'of', 'water', 'bodies', 'using', 'hyperspectral', 'data', 'requires', 'careful', 'data', 'processing', 'and', 'analysis', ',', 'as', 'well', 'as', 'accurate', 'ground', 'truthing', 'data', 'for', 'calibration', 'and', 'validation', '.', 'Additionally', ',', 'it', 'is', 'important', 'to', 'consider', 'the', 'specific', 'environmental', 'and', 'management', 'factors', 'that', 'may', 'affect', 'the', 'spectral', 'characteristics', 'of', 'different', 'water', 'bodies', ',', 'in', 'order', 'to', 'accurately', 'classify', 'them', '.', '``', ']', ',', ']']\n"
          ]
        }
      ]
    },
    {
      "cell_type": "code",
      "metadata": {
        "id": "1ad8fe88"
      },
      "source": [
        "intents = [     # Declaring neccessary intents into a json file .More intents can be added\n",
        "    'Greeting',\n",
        "    'Goodbye',\n",
        "    'Water Definition',\n",
        "    'Water Coverage on Earth',\n",
        "    'States of Water',\n",
        "    'Water Cycle',\n",
        "    'Importance of Clean Water',\n",
        "    'Types of water bodies',\n",
        "    'regulations of water bodies',\n",
        "    'conservation',\n",
        "    'pollution level',\n",
        "    'pollutant',\n",
        "    'toxins in water',\n",
        "    'amount of dissolvable oxygen',\n",
        "    'danger of marine and aqua life',\n",
        "    'how useful the water is',\n",
        "    'statistical analysis',\n",
        "    'pH balance',\n",
        "    'microplastic',\n",
        "    'improving water quality',\n",
        "    'hyperspectral remote sensing'\n",
        "\n",
        "]\n",
        "\n",
        "print(\"Identified Intents:\")\n",
        "for intent in intents:\n",
        "    print(f\"- {intent}\")"
      ],
      "execution_count": null,
      "outputs": []
    },
    {
      "cell_type": "markdown",
      "source": [
        "Creating examples for intent"
      ],
      "metadata": {
        "id": "UfHjsEQshjof"
      }
    },
    {
      "cell_type": "code",
      "metadata": {
        "id": "82594cea"
      },
      "source": [
        "training_data = [\n",
        "    (\"hello\", \"Greeting\"),\n",
        "    (\"hi there\", \"Greeting\"),\n",
        "    (\"hey\", \"Greeting\"),\n",
        "    (\"greetings\", \"Greeting\"),\n",
        "    (\"what's up\", \"Greeting\"),\n",
        "    (\"goodbye\", \"Goodbye\"),\n",
        "    (\"bye\", \"Goodbye\"),\n",
        "    (\"see you later\", \"Goodbye\"),\n",
        "    (\"what is water\", \"Water Definition\"),\n",
        "    (\"define water\", \"Water Definition\"),\n",
        "    (\"tell me about water\", \"Water Definition\"),\n",
        "    (\"how much of the earth is covered by water\", \"Water Coverage on Earth\"),\n",
        "    (\"what percentage of earth is water\", \"Water Coverage on Earth\"),\n",
        "    (\"earth water coverage\", \"Water Coverage on Earth\"),\n",
        "    (\"what are the states of water\", \"States of Water\"),\n",
        "    (\"water in different forms\", \"States of Water\"),\n",
        "    (\"solid liquid gas water\", \"States of Water\"),\n",
        "    (\"explain the water cycle\", \"Water Cycle\"),\n",
        "    (\"how does the water cycle work\", \"Water Cycle\"),\n",
        "    (\"water cycle process\", \"Water Cycle\"),\n",
        "    (\"why is clean water important\", \"Importance of Clean Water\"),\n",
        "    (\"importance of clean drinking water\", \"Importance of Clean Water\"),\n",
        "    (\"clean water health\", \"Importance of Clean Water\"),\n",
        "    (\"What are the different types of water bodies\", \"Types of water bodies\"),\n",
        "    (\"What are some regulations related to water pollution\",\"regulations of water bodies\"),\n",
        "    (\"What is the importance of conservation of water\",\"conservation\"),\n",
        "    (\"What is the pollution level of water\",\"pollution level\"),\n",
        "    (\"What are the most common pollutants in water\",\"pollutant\"),\n",
        "    (\"How can I get involved in water conservation\",\"conservation\"),\n",
        "    (\"What statistical analysis can be performed for water samples collected seasonally\",\"statistical analysis\"),\n",
        "    (\"How do researchers assess microplastic accumulation in water bodies? What steps are involved in this process?\",\" microplastic\"),\n",
        "    (\"Why pH balance is important for fish culture\",\" pH balance\"),\n",
        "    (\"What the possible Persistent Organic Pollutants and Heavy metals present in fluorspar, sediments, and water bodies around its mining area\",\"pollutant\"),\n",
        "    (\" How to improve quantity and quality of groundwater \",\"impoving water quality\"),\n",
        "    (\"Is it viable to use hyperspectral remote sensing data to classify different types of water bodies in a region\",\"hyperspetral remote sensing\"),\n",
        "\n",
        "\n",
        "for sentence, intent in training_data:\n",
        "    print(f\"Sentence: '{sentence}', Intent: '{intent}'\")"
      ],
      "execution_count": null,
      "outputs": []
    },
    {
      "cell_type": "markdown",
      "source": [
        "Fitting a machine learning model with naive-bayes technique and creating a pipeline for Tf-IdfVectorizer"
      ],
      "metadata": {
        "id": "tXN3tocYhqrH"
      }
    },
    {
      "cell_type": "code",
      "metadata": {
        "id": "d7c149e8"
      },
      "source": [
        "from sklearn.feature_extraction.text import TfidfVectorizer\n",
        "from sklearn.naive_bayes import MultinomialNB\n",
        "from sklearn.pipeline import make_pipeline\n",
        "\n",
        "# Separate sentences and intents\n",
        "sentences = [sentence for sentence, intent in training_data]\n",
        "labels = [intent for sentence, intent in training_data]\n",
        "\n",
        "# Create a pipeline for TF-IDF vectorization and Naive Bayes classification\n",
        "model = make_pipeline(TfidfVectorizer(), MultinomialNB())\n",
        "\n",
        "# Train the model\n",
        "model.fit(sentences, labels)\n",
        "\n",
        "print(\"Model training complete.\")"
      ],
      "execution_count": null,
      "outputs": []
    },
    {
      "cell_type": "markdown",
      "source": [
        "Main chatbot logic is integrated below"
      ],
      "metadata": {
        "id": "4RDDDlgziBg_"
      }
    },
    {
      "cell_type": "code",
      "metadata": {
        "colab": {
          "base_uri": "https://localhost:8080/"
        },
        "id": "ab0778c9",
        "outputId": "833ac84e-0ef1-4fad-8c39-511acfa44811"
      },
      "source": [
        "\n",
        "import random\n",
        "import nltk\n",
        "import numpy as np\n",
        "from sklearn.feature_extraction.text import TfidfVectorizer\n",
        "from sklearn.metrics.pairwise import cosine_similarity\n",
        "import string\n",
        "from sklearn.naive_bayes import MultinomialNB\n",
        "from sklearn.pipeline import make_pipeline\n",
        "\n",
        "\n",
        "nltk.download('punkt', quiet=True)\n",
        "nltk.download('wordnet', quiet=True)\n",
        "\n",
        "\n",
        "\n",
        "try:\n",
        "    with open('water.txt', 'r', errors='ignore') as f:\n",
        "        raw = f.read().lower()\n",
        "except FileNotFoundError:\n",
        "    print(\"Error: water.txt not found. Please make sure the file exists in the correct directory.\")\n",
        "    raw = \"\"\n",
        "except Exception as e:\n",
        "    print(f\"An error occurred while reading the file: {e}\")\n",
        "    raw = \"\"\n",
        "\n",
        "sent_tokens = nltk.sent_tokenize(raw)\n",
        "\n",
        "lemmer = nltk.stem.WordNetLemmatizer()\n",
        "remove_punct_dict = dict((ord(punct), None) for punct in string.punctuation)\n",
        "\n",
        "def LemTokens(tokens):\n",
        "    return [lemmer.lemmatize(token) for token in tokens]\n",
        "\n",
        "def LemNormalize(text):\n",
        "    return LemTokens(nltk.word_tokenize(text.lower().translate(remove_punct_dict)))\n",
        "\n",
        "TfidfVec = TfidfVectorizer(tokenizer=LemNormalize, stop_words='english')\n",
        "\n",
        "if sent_tokens:\n",
        "    tfidf = TfidfVec.fit_transform(sent_tokens)\n",
        "else:\n",
        "    tfidf = None\n",
        "\n",
        "def response(user_response):\n",
        "    robo_response = ''\n",
        "\n",
        "    if not sent_tokens or tfidf is None:\n",
        "        return \"I don't have information on that topic.\"\n",
        "\n",
        "    temp_sent_tokens = sent_tokens + [user_response]\n",
        "\n",
        "    user_tfidf = TfidfVec.transform([user_response])\n",
        "    vals = cosine_similarity(user_tfidf, tfidf)\n",
        "\n",
        "    idx = vals.argsort()[0][-1]\n",
        "\n",
        "    flat = vals.flatten()\n",
        "    flat.sort()\n",
        "    req_tfidf = flat[-1]\n",
        "\n",
        "    if req_tfidf == 0:\n",
        "        robo_response = \"I am sorry! I don't understand you\"\n",
        "    else:\n",
        "        robo_response = sent_tokens[idx]\n",
        "\n",
        "    return robo_response\n",
        "\n",
        "\n",
        "GREETING_RESPONSES = [\"hi\", \"hey\", \"*nods*\", \"hi there\", \"hello\", \"I am glad! You are talking to me\"]\n",
        "\n",
        "intent_responses = {\n",
        "    'Greeting': random.choice(GREETING_RESPONSES),\n",
        "    'Goodbye': \"Bye! take care..\",\n",
        "    'Water Definition': \"Water is essential for life.\",\n",
        "    'Water Coverage on Earth': \"It covers about 71% of the Earth's surface.\",\n",
        "    'States of Water': \"Water exists in three states: solid, liquid, and gas.\",\n",
        "    'Water Cycle': \"The water cycle is a continuous process.\",\n",
        "    'Importance of Clean Water': \"Clean water is important for health.\",\n",
        "    # Add more specific responses for other intents as needed\n",
        "    'Types of water bodies': \"Examples of water bodies include oceans, lakes, rivers, and wetlands.\",\n",
        "    'regulations of water bodies': \"Regulations vary by location, but often include rules on pollution discharge and water usage.\",\n",
        "    'conservation': \"Water conservation involves using water efficiently to prevent waste. You can get involved by fixing leaks, using less water, and supporting conservation efforts.\",\n",
        "    'pollution level': \"Water pollution levels are measured based on contaminants present. Specific levels depend on the location and type of water body.\",\n",
        "    'pollutant': \"Common water pollutants include chemicals, waste, and microorganisms.\",\n",
        "    'statistical analysis': \"Statistical analysis of water samples can involve examining trends in water quality, pollutant levels, and other parameters over time or across different locations.\",\n",
        "    'microplastic': \"Researchers assess microplastic accumulation by collecting water samples, filtering them to isolate microplastics, and then analyzing the types and quantities present using microscopy or spectroscopy.\",\n",
        "    'pH balance': \"Maintaining the correct pH balance in water is crucial for fish culture as it affects their physiological processes and overall health.\",\n",
        "    'impoving water quality': \"Improving groundwater quality can involve reducing sources of contamination, implementing proper waste disposal, and using filtration or treatment methods.\",\n",
        "    'hyperspetral remote sensing': \"Hyperspectral remote sensing can be a viable tool for classifying different water bodies based on their spectral signatures, which are influenced by factors like depth, turbidity, and the presence of algae or other substances.\"\n",
        "\n",
        "\n",
        "}\n",
        "\n",
        "\n",
        "\n",
        "flag = True\n",
        "print(\"Aquabot: My name is golden_lotus. I will answer your queries regarding aqualogic.\")\n",
        "while(flag == True):\n",
        "\n",
        "    training_data = [\n",
        "\n",
        "        (\"hello\", \"Greeting\"),\n",
        "        (\"hi there\", \"Greeting\"),\n",
        "        (\"hey\", \"Greeting\"),\n",
        "        (\"greetings\", \"Greeting\"),\n",
        "        (\"what's up\", \"Greeting\"),\n",
        "        (\"goodbye\", \"Goodbye\"),\n",
        "        (\"bye\", \"Goodbye\"),\n",
        "        (\"see you later\", \"Goodbye\"),\n",
        "        (\"what is water\", \"Water Definition\"),\n",
        "        (\"define water\", \"Water Definition\"),\n",
        "        (\"tell me about water\", \"Water Definition\"),\n",
        "        (\"how much of the earth is covered by water\", \"Water Coverage on Earth\"),\n",
        "        (\"what percentage of earth is water\", \"Water Coverage on Earth\"),\n",
        "        (\"earth water coverage\", \"Water Coverage on Earth\"),\n",
        "        (\"what are the states of water\", \"States of Water\"),\n",
        "        (\"water in different forms\", \"States of Water\"),\n",
        "        (\"solid liquid gas water\", \"States of Water\"),\n",
        "        (\"explain the water cycle\", \"Water Cycle\"),\n",
        "        (\"how does the water cycle work\", \"Water Cycle\"),\n",
        "        (\"water cycle process\", \"Water Cycle\"),\n",
        "        (\"why is clean water important\", \"Importance of Clean Water\"),\n",
        "        (\"importance of clean drinking water\", \"Importance of Clean Water\"),\n",
        "        (\"clean water health\", \"Importance of Clean Water\"),\n",
        "        (\"What are the different types of water bodies\", \"Types of water bodies\"),\n",
        "        (\"What are some regulations related to water pollution\",\"regulations of water bodies\"),\n",
        "        (\"What is the importance of conservation of water\",\"conservation\"),\n",
        "        (\"What is the pollution level of water\",\"pollution level\"),\n",
        "        (\"What are the most common pollutants in water\",\"pollutant\"),\n",
        "        (\"How can I get involved in water conservation\",\"conservation\"),\n",
        "        (\"What statistical analysis can be performed for water samples collected seasonally\",\"statistical analysis\"),\n",
        "        (\"How do researchers assess microplastic accumulation in water bodies? What steps are involved in this process?\",\" microplastic\"),\n",
        "        (\"Why pH balance is important for fish culture\",\" pH balance\"),\n",
        "        (\"What the possible Persistent Organic Pollutants and Heavy metals present in fluorspar, sediments, and water bodies around its mining area\",\"pollutant\"),\n",
        "        (\" How to improve quantity and quality of groundwater \",\"impoving water quality\"),\n",
        "        (\"Is it viable to use hyperspectral remote sensing data to classify different types of water bodies in a region\",\"hyperspetral remote sensing\"),\n",
        "        # Adding more diverse training data for water-related intents\n",
        "        (\"tell me about water pollution\", \"Water Definition\"),\n",
        "        (\"what causes water pollution\", \"Water Definition\"),\n",
        "        (\"types of water pollution\", \"Water Definition\"),\n",
        "        (\"what are water bodies\", \"Types of water bodies\"),\n",
        "        (\"examples of water bodies\", \"Examples of water bodies\"),\n",
        "        (\"how to conserve water\", \"conservation\"),\n",
        "        (\"tips for saving water\", \"conservation\"),\n",
        "        (\"what are water pollution regulations\", \"regulations of water bodies\"),\n",
        "        (\"laws about water pollution\", \"regulations of water bodies\"),\n",
        "        (\"how is water pollution measured\", \"pollution level\"),\n",
        "        (\"levels of pollutants in water\", \"pollution level\"),\n",
        "        (\"what are pollutants in water\", \"pollutant\"),\n",
        "        (\"chemicals in water\", \"pollutant\"),\n",
        "        (\"heavy metals in water\", \"pollutant\"),\n",
        "        (\"microplastics in the ocean\", \"microplastic\"),\n",
        "        (\"how to measure microplastics in water\", \"microplastic\"),\n",
        "        (\"why is pH important for fish\", \"pH balance\"),\n",
        "        (\"ideal pH for fish\", \"pH balance\"),\n",
        "        (\"how to improve groundwater\", \"impoving water quality\"),\n",
        "        (\"cleaning groundwater\", \"impoving water quality\"),\n",
        "        (\"using remote sensing for water bodies\", \"hyperspetral remote sensing\"),\n",
        "        (\"classifying water bodies with satellite data\", \"hyperspetral remote sensing\"),\n",
        "    ]\n",
        "\n",
        "    sentences = [sentence for sentence, intent in training_data]\n",
        "    labels = [intent for sentence, intent in training_data]\n",
        "\n",
        "    model = make_pipeline(TfidfVectorizer(), MultinomialNB())\n",
        "    model.fit(sentences, labels)\n",
        "\n",
        "    user_response = input()\n",
        "    user_response = user_response.lower()\n",
        "\n",
        "    if user_response != 'bye':\n",
        "        if user_response == 'thanks' or user_response == 'thank you':\n",
        "            flag = False\n",
        "            print(\"Aquabot: You are welcome..\")\n",
        "        else:\n",
        "\n",
        "            predicted_intent = model.predict([user_response])[0]\n",
        "            print(f\" {predicted_intent}\")\n",
        "            if predicted_intent in intent_responses:\n",
        "                print(\"Aquabot: \" + intent_responses[predicted_intent])\n",
        "            else:\n",
        "\n",
        "                print(\"Aquabot:\", end='')\n",
        "                print(response(user_response))\n",
        "    else:\n",
        "        flag = False\n",
        "        print(\"Aquabot: Bye! take care\\n\n",
        "        See you next time with more information and discussions\")"
      ],
      "execution_count": 7,
      "outputs": [
        {
          "output_type": "stream",
          "name": "stderr",
          "text": [
            "/usr/local/lib/python3.11/dist-packages/sklearn/feature_extraction/text.py:517: UserWarning: The parameter 'token_pattern' will not be used since 'tokenizer' is not None'\n",
            "  warnings.warn(\n",
            "/usr/local/lib/python3.11/dist-packages/sklearn/feature_extraction/text.py:402: UserWarning: Your stop_words may be inconsistent with your preprocessing. Tokenizing the stop words generated tokens ['ha', 'u', 'wa'] not in stop_words.\n",
            "  warnings.warn(\n"
          ]
        },
        {
          "output_type": "stream",
          "name": "stdout",
          "text": [
            "ROBO: My name is bot. I will answer your queries.\n",
            "bye\n",
            "ROBO: Bye! take care..\n"
          ]
        }
      ]
    }
  ]
}